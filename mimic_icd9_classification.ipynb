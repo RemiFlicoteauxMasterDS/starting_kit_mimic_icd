{
 "cells": [
  {
   "cell_type": "markdown",
   "metadata": {},
   "source": [
    "# Automated text classification for ICD 9 diagnosis code assignment from MIMIC Database"
   ]
  },
  {
   "cell_type": "markdown",
   "metadata": {},
   "source": [
    "## Context"
   ]
  },
  {
   "cell_type": "markdown",
   "metadata": {},
   "source": [
    "### Electronic Medical Records and coding\n",
    "Health information systems are used at a large scale in the healthcare institutions and hospitals for various tasks, such as medical record management, medical prescription, and billing. As a result, increasing large volumes of healthcare data are regularly generated in the form of Electronic Medical Records (EMR). In this regard, textual data has a prominent place. Free text is actually a suitable form to describe a wide range of data related to patient’s care including medical history, personal statistics, admission diagnosis, patient-caregiver exchange, etc. However, despite of being an abundant and valuable resource, only low quantities of these data are actually used for specific mining tasks, e.g., [Perotte 2014, Pestian 2007]. One major issue that can be approached by capitalizing on the routinely generated textual data is the automation of diagnosis code assignment to medical notes [Chin 2017, Dermouche 2016, Ruch 2008]. The task involves characterizing patient’s hospitalstay (symptoms, diagnoses, treatments, etc.) by a small number of codes, usually derived from the International Classification of Diseases (ICD). Diagnosis codes provide a fast and easy understanding of patient’s state evolution. The same codes are used as billing elements by the health insurance systems. Because of its importance, the task of code assignment is often performed manually by professional coders. However, manual coding is tedious and time-consuming: on average the coders spend about five minutes identifying only single code.\n",
    "\n",
    "### Automated ICD9 coding\n",
    "Automated ICD9 coding, a multi-label classification task, has been investigated in the informatics community. In fact, the task of ICD9 coding for radiology reports was one of the first informatics community challenges [Pestian 2007]. Since then, several approches have been experimented : simple keyword mappings [Arkey 1995,Tchechmedjiev 2017], K-nearest neighbor, naive Bayes, Bayesian ridge regression [Ribeiro-Neto 2001, Pakhomov 2006, Lita 2008], support vector machines (SVMs)[Perotte 2014, Dermouche 2016] and more recenttly topic modeling [Dermouche 2016] or neural network [Ayyar 2016, Baumlel 2017, Chin 2017, Vani 2017] with promising results. Comparison of these methods is difficult, however, because they all leverage different datasets and/or methods.\n",
    "\n",
    "### The challenge\n",
    "\n",
    "To ensure reproducibility of training and test methods, working on a publicly available dataset offers a major opportunities to enable researchers interested in designing novel algorithms for clinical data processing to compare their results on the same data with the same metrics, and thus advance the state of the art [Perotte 2014]. Sevral databases have been used for this task among which death certificates in European languages as part of Clef eHealth challenge [[Clef eHealth](https://sites.google.com/site/clefehealth2017/)]. MIMIC-III (Medical Information Mart for Intensive Care III) is a large, freely-available database comprising deidentified health-related data associated with over forty thousand patients who stayed in critical care units of the Beth Israel Deaconess Medical Center between 2001 and 2012. Comprehensive MIMIC database that spans more than a decade with detailed information about individual patient care, is suited to meet this challenge, and have been use for development and evaluation of automatic ICD code assignment pipelines [Ayyar 2016, Baumlel 2017, Dermouche 2016, Perotte 2014].\n",
    "\n",
    "The objective of the challenge is the improvement of a baseline data processing pipeline for ICD 9 diagnosis code assignment from MIMIC Database.\n",
    "\n",
    "### Data preparation from MIMIC database\n",
    "\n",
    "#### Notes\n",
    "The MIMIC notes table contains all de-identify texts for patients and contain many type of reports (ECG, radio, nurse…). Among those only the discharge summary have been extracted.\n",
    "\n",
    "#### ICD codes\n",
    "To guaranty representation of the codes, prediction task will concern ICD categories (level just upon the codes in the hierarchy) and only ICD catagories that has least 1000 occurrences have been selected \n",
    "\n",
    "#### Training and test set\n",
    "Amoung the ... hospitalisation with both a discharge summary and ICD codes avaliable, .... have been selected regarding code frequencie. Data were split into a .... annoted discharge summary and .... test. \n"
   ]
  },
  {
   "cell_type": "code",
   "execution_count": 2,
   "metadata": {},
   "outputs": [],
   "source": [
    "import pandas as pd\n",
    "%matplotlib inline\n",
    "import numpy as np\n",
    "\n",
    "import matplotlib.pyplot as plt"
   ]
  },
  {
   "cell_type": "markdown",
   "metadata": {},
   "source": [
    "### Data description\n",
    "\n",
    "Load MIMIC tables NOTEEVENTS and DIAGNOSES_ICD"
   ]
  },
  {
   "cell_type": "code",
   "execution_count": 7,
   "metadata": {},
   "outputs": [
    {
     "data": {
      "text/plain": [
       "(41453, 3)"
      ]
     },
     "execution_count": 7,
     "metadata": {},
     "output_type": "execute_result"
    }
   ],
   "source": [
    "train_filename = 'data/train.csv'\n",
    "data = pd.read_csv(train_filename)\n",
    "data.head()\n"
   ]
  },
  {
   "cell_type": "code",
   "execution_count": 9,
   "metadata": {},
   "outputs": [
    {
     "data": {
      "text/html": [
       "<div>\n",
       "<style scoped>\n",
       "    .dataframe tbody tr th:only-of-type {\n",
       "        vertical-align: middle;\n",
       "    }\n",
       "\n",
       "    .dataframe tbody tr th {\n",
       "        vertical-align: top;\n",
       "    }\n",
       "\n",
       "    .dataframe thead th {\n",
       "        text-align: right;\n",
       "    }\n",
       "</style>\n",
       "<table border=\"1\" class=\"dataframe\">\n",
       "  <thead>\n",
       "    <tr style=\"text-align: right;\">\n",
       "      <th></th>\n",
       "      <th>HADM_ID</th>\n",
       "      <th>TEXT</th>\n",
       "      <th>TARGET</th>\n",
       "    </tr>\n",
       "  </thead>\n",
       "  <tbody>\n",
       "    <tr>\n",
       "      <th>0</th>\n",
       "      <td>104040.0</td>\n",
       "      <td>{Admission Date:  [**2128-12-30**]            ...</td>\n",
       "      <td>415</td>\n",
       "    </tr>\n",
       "    <tr>\n",
       "      <th>1</th>\n",
       "      <td>104040.0</td>\n",
       "      <td>{Admission Date:  [**2128-12-30**]            ...</td>\n",
       "      <td>276</td>\n",
       "    </tr>\n",
       "    <tr>\n",
       "      <th>2</th>\n",
       "      <td>104040.0</td>\n",
       "      <td>{Admission Date:  [**2128-12-30**]            ...</td>\n",
       "      <td>285</td>\n",
       "    </tr>\n",
       "    <tr>\n",
       "      <th>3</th>\n",
       "      <td>104040.0</td>\n",
       "      <td>{Admission Date:  [**2128-12-30**]            ...</td>\n",
       "      <td>584</td>\n",
       "    </tr>\n",
       "    <tr>\n",
       "      <th>4</th>\n",
       "      <td>104040.0</td>\n",
       "      <td>{Admission Date:  [**2128-12-30**]            ...</td>\n",
       "      <td>458</td>\n",
       "    </tr>\n",
       "  </tbody>\n",
       "</table>\n",
       "</div>"
      ],
      "text/plain": [
       "    HADM_ID                                               TEXT TARGET\n",
       "0  104040.0  {Admission Date:  [**2128-12-30**]            ...    415\n",
       "1  104040.0  {Admission Date:  [**2128-12-30**]            ...    276\n",
       "2  104040.0  {Admission Date:  [**2128-12-30**]            ...    285\n",
       "3  104040.0  {Admission Date:  [**2128-12-30**]            ...    584\n",
       "4  104040.0  {Admission Date:  [**2128-12-30**]            ...    458"
      ]
     },
     "execution_count": 9,
     "metadata": {},
     "output_type": "execute_result"
    }
   ],
   "source": [
    " # Re expand icd9 --> make one code by line\n",
    "data['TARGET']=data['TARGET'].apply(lambda x : eval(x))\n",
    "rows = []\n",
    "_ = data.apply(lambda row: [rows.append([row['HADM_ID'],row['TEXT'],nn]) \n",
    "                         for nn in row.TARGET], axis=1)\n",
    "data = pd.DataFrame(rows, columns=data.columns)\n",
    "data.head()"
   ]
  },
  {
   "cell_type": "code",
   "execution_count": 10,
   "metadata": {},
   "outputs": [
    {
     "data": {
      "text/plain": [
       "(337483, 3)"
      ]
     },
     "execution_count": 10,
     "metadata": {},
     "output_type": "execute_result"
    }
   ],
   "source": [
    "data.shape"
   ]
  },
  {
   "cell_type": "code",
   "execution_count": 14,
   "metadata": {},
   "outputs": [
    {
     "data": {
      "text/plain": [
       "array(['415', '276', '285', '584', '458', '401', '530', '493', '197',\n",
       "       '572', '456', '599', '427', '041', '426', '272', '733', '553',\n",
       "       '294', '031', '564', '724', '038', '048', '425', '428', '453',\n",
       "       '287', '275', '507', '518', '286', '511', '250', '491', '416',\n",
       "       '403', '585', '414', '780', '291', '305', '263', '424', '410',\n",
       "       '790', '043', '348', '070', '331', '482', '008', '707', '112',\n",
       "       '300', '280', '274', '278', '284', '571', '789', '560', '567',\n",
       "       '600', '788', '569', '784', '787', '786', '303', '779', '770',\n",
       "       '774', '049', '785', '438', '715', '244', '345', '441', '578',\n",
       "       '440', '076', '765', '682', '413', '562', '338', '293', '362',\n",
       "       '162', '296', '411', '357', '198', '535', '433', '593', '576',\n",
       "       '577', '574', '434', '443', '288', '057', '729', '519', '799', '327'], dtype=object)"
      ]
     },
     "execution_count": 14,
     "metadata": {},
     "output_type": "execute_result"
    }
   ],
   "source": [
    "data.TARGET.unique()"
   ]
  },
  {
   "cell_type": "code",
   "execution_count": 16,
   "metadata": {},
   "outputs": [
    {
     "data": {
      "text/plain": [
       "<matplotlib.axes._subplots.AxesSubplot at 0x1d9a306cef0>"
      ]
     },
     "execution_count": 16,
     "metadata": {},
     "output_type": "execute_result"
    },
    {
     "data": {
      "image/png": "[encoded data removed]",
      "text/plain": [
       "<matplotlib.figure.Figure at 0x1d9a2bdff60>"
      ]
     },
     "metadata": {},
     "output_type": "display_data"
    }
   ],
   "source": [
    "d_freq=data.groupby('TARGET')['HADM_ID'].count().sort_values(ascending=False)\n",
    "d_freq.plot(kind='bar',figsize= (17, 10))"
   ]
  },
  {
   "cell_type": "markdown",
   "metadata": {},
   "source": [
    "## starting kit python files\n",
    "\n",
    "### problem.py"
   ]
  },
  {
   "cell_type": "code",
   "execution_count": null,
   "metadata": {},
   "outputs": [],
   "source": [
    "%%file problem.py\n",
    "# -*- coding: utf-8 -*-\n",
    "import os\n",
    "import pandas as pd\n",
    "import numpy as np\n",
    "import rampwf as rw\n",
    "from datetime import timedelta\n",
    "from sklearn import model_selection\n",
    "\n",
    "problem_title = 'Medical text classification in ICD 9 thesaurus'\n",
    "_target_column_name = 'TARGET'\n",
    "\n",
    "_prediction_label_names = [ '403', '048', '585', '425', '276', '724', '458', '287', '285',\n",
    "       '275', '327', '338', '789', '790', '410', '414', '331', '530',\n",
    "       '411', '482', '272', '305', '197', '424', '584', '682', '511',\n",
    "       '599', '428', '401', '041', '571', '070', '250', '057', '572',\n",
    "       '286', '518', '038', '280', '263', '303', '244', '112', '441',\n",
    "       '049', '440', '274', '427', '569', '560', '491', '433', '043',\n",
    "       '493', '416', '765', '076', '779', '774', '770', '362', '198',\n",
    "       '780', '357', '293', '443', '031', '600', '294', '284', '553',\n",
    "       '426', '707', '348', '787', '564', '300', '788', '453', '413',\n",
    "       '507', '162', '785', '799', '574', '296', '733', '578', '438',\n",
    "       '008', '593', '345', '519', '278', '715', '415', '535', '576',\n",
    "       '288', '567', '786', '784', '729', '434', '456', '577', '562', '291']\n",
    "# A type (class) which will be used to create wrapper objects for y_pred\n",
    "Predictions = rw.prediction_types.make_multiclass(\n",
    "    label_names=_prediction_label_names)\n",
    "\n",
    "# An object implementing the workflow\n",
    "workflow = rw.workflows.FeatureExtractorClassifier()\n",
    "\n",
    "soft_score_matrix = np.array(np.diag(np.ones(len(_prediction_label_names))))\n",
    "\n",
    "true_false_score_matrix = np.array(np.diag(np.ones(len(_prediction_label_names))))\n",
    "\n",
    "\n",
    "score_types = [\n",
    "    rw.score_types.SoftAccuracy(\n",
    "        name='sacc', score_matrix=soft_score_matrix, precision=3),\n",
    "    rw.score_types.Accuracy(name='acc', precision=3),\n",
    "    rw.score_types.SoftAccuracy(\n",
    "        name='tfacc', score_matrix=true_false_score_matrix, precision=3),\n",
    "]\n",
    "\n",
    "\n",
    "def get_cv(X, y):\n",
    "    \"\"\"Slice folds by equal date intervals.\"\"\"\n",
    "    n_splits = 8\n",
    "    for i in range(n_splits):\n",
    "        train_is, test_is = model_selection.train_test_split(np.arange(len(y)))\n",
    "        yield train_is, test_is\n",
    "\n",
    "def _read_data(path, f_name):\n",
    "    data = pd.read_csv(os.path.join(path, 'data', f_name), sep=',',\n",
    "                          dtype={'HADM_ID':np.int32, 'TEXT':str, 'TARGET':str})\n",
    "    # Re expand icd9 --> make one code by line\n",
    "    data['TARGET']=data['TARGET'].apply(lambda x : eval(x))\n",
    "    rows = []\n",
    "    _ = data.apply(lambda row: [rows.append([row['HADM_ID'],row['TEXT'],nn]) \n",
    "                         for nn in row.TARGET], axis=1)\n",
    "    data = pd.DataFrame(rows, columns=data.columns)\n",
    "    y_array = data[_target_column_name].values\n",
    "    X_df = data.drop(_target_column_name, axis=1)\n",
    "    test = os.getenv('RAMP_TEST_MODE', 0)\n",
    "    if test:\n",
    "        return X_df[:100], y_array[:100]\n",
    "    else:\n",
    "        return X_df, y_array\n",
    "\n",
    "\n",
    "def get_train_data(path='.'):\n",
    "    f_name = 'train.csv'\n",
    "    return _read_data(path, f_name)\n",
    "\n",
    "\n",
    "def get_test_data(path='.'):\n",
    "    f_name = 'test.csv'\n",
    "    return _read_data(path, f_name)"
   ]
  },
  {
   "cell_type": "code",
   "execution_count": null,
   "metadata": {},
   "outputs": [],
   "source": [
    "%run problem.py"
   ]
  },
  {
   "cell_type": "code",
   "execution_count": null,
   "metadata": {},
   "outputs": [],
   "source": [
    "%%file submissions/starting_kit/feature_extractor.py\n",
    "from __future__ import unicode_literals\n",
    "from sklearn.feature_extraction.text import TfidfVectorizer\n",
    "from collections import Counter\n",
    "from keras.preprocessing.text import Tokenizer\n",
    "import unicodedata\n",
    "import pandas as pd\n",
    "import numpy as np\n",
    "import string\n",
    "import re\n",
    "from nltk.corpus import stopwords\n",
    "\n",
    "stpwrds = set([stopword for stopword in stopwords.words('english')])\n",
    "stpwrds.update({'admission', 'birth', 'date', 'discharge', 'service','sex'})\n",
    "punct = set(string.punctuation.replace('-', ''))\n",
    "punct.update([\"``\", \"`\", \"...\"])\n",
    "\n",
    "def clean_text_simple(text, my_stopwords=stpwrds, punct=punct, remove_stopwords=True, stemming=False):\n",
    "    text = text.lower()\n",
    "    text = ''.join(l for l in text if l not in punct) # remove punctuation (preserving intra-word dashes)\n",
    "    text = re.sub(' +',' ',text) # strip extra white space\n",
    "    text = text.strip() # strip leading and trailing white space \n",
    "    tokens = text.split() # tokenize (split based on whitespace)\n",
    "    tokens = [w for w in tokens if w.isalpha()]\n",
    "    tokens = [w for w in tokens if len(w) > 2]\n",
    "\n",
    "    if remove_stopwords:\n",
    "        # remove stopwords from 'tokens'\n",
    "        tokens = [x for x in tokens if x not in my_stopwords]\n",
    "\n",
    "    if stemming:\n",
    "        # apply stemmer\n",
    "        stemmer = SnowballStemmer('english')\n",
    "        tokens = [stemmer.stem(t) for t in tokens]\n",
    "\n",
    "    return tokens\n",
    "\n",
    "\n",
    "\n",
    "def document_preprocessor(doc):\n",
    "    # TODO: is there a way to avoid these encode/decode calls?\n",
    "    try:\n",
    "        doc = unicode(doc, 'utf-8')\n",
    "    except NameError:  # unicode is a default on python 3\n",
    "        pass\n",
    "    doc = unicodedata.normalize('NFD', doc)\n",
    "    doc = doc.encode('ascii', 'ignore')\n",
    "    doc = doc.decode(\"utf-8\")\n",
    "    return str(doc)\n",
    "\n",
    "\n",
    "from nltk.stem import SnowballStemmer\n",
    "\n",
    "stemmer = SnowballStemmer('english')\n",
    "\n",
    "def token_processor(tokens):\n",
    "    for token in tokens:\n",
    "        #remove special chars\n",
    "        token=''.join(e for e in token if e.isalnum())\n",
    "        yield stemmer.stem(token)\n",
    "\n",
    "class FeatureExtractor(TfidfVectorizer):\n",
    "    \"\"\"Convert a collection of raw docs to a matrix of TF-IDF features. \"\"\"\n",
    "\n",
    "    def __init__(self):\n",
    "        self.min_occur = 1\n",
    "        self.max_length = -1\n",
    "        self.vocab_size = -1\n",
    "        self.tokenizer = Tokenizer() # create the tokenizer\n",
    "         \n",
    "        super(FeatureExtractor, self).__init__(\n",
    "                analyzer='word',stop_words ='english', preprocessor=document_preprocessor)\n",
    "\n",
    "    def fit(self, X_df, y=None):\n",
    "        \"\"\"Learn a vocabulary dictionary of all tokens in the raw documents.\n",
    "\n",
    "        Parameters\n",
    "        ----------\n",
    "        X_df : pandas.DataFrame\n",
    "            a DataFrame, where the text data is stored in the ``TEXT``\n",
    "            column.\n",
    "        \"\"\"\n",
    "        \n",
    "        super(FeatureExtractor, self).fit(X_df.TEXT)\n",
    "        \n",
    "        \n",
    "        return self\n",
    "\n",
    "    def fit_transform(self, X_df, y=None):\n",
    "        self.fit(X_df)\n",
    "        return self.transform(self.X_df)\n",
    "\n",
    "    def transform(self, X_df):\n",
    "\n",
    "        statements = pd.Series(X_df.TEXT).apply(clean_text_simple)\n",
    "\n",
    "        vocab = Counter()\n",
    "        for statement in statements:\n",
    "            vocab.update(statement)\n",
    "        tokens = [k for k,c in vocab.items() if c >= self.min_occur]\n",
    "        statements = statements.apply(lambda x: [w for w in x if w in tokens])\n",
    "        statements = statements.apply(lambda x: ' '.join(x))\n",
    "        statements = list(statements.values)\n",
    "        vec_c = TfidfVectorizer(ngram_range=(1, 1))\n",
    "        tf_idf = vec_c.fit_transform(statements)\n",
    "        return tf_idf\n",
    "\n",
    "    def build_tokenizer(self):\n",
    "        \"\"\"\n",
    "        Internal function, needed to plug-in the token processor, cf.\n",
    "        http://scikit-learn.org/stable/modules/feature_extraction.html#customizing-the-vectorizer-classes\n",
    "        \"\"\"\n",
    "        tokenize = super(FeatureExtractor, self).build_tokenizer()\n",
    "        return lambda doc: list(token_processor(tokenize(doc)))\n",
    "\n"
   ]
  },
  {
   "cell_type": "code",
   "execution_count": 107,
   "metadata": {},
   "outputs": [],
   "source": [
    "%run submissions/starting_kit/feature_extractor.py"
   ]
  },
  {
   "cell_type": "code",
   "execution_count": 108,
   "metadata": {},
   "outputs": [
    {
     "name": "stdout",
     "output_type": "stream",
     "text": [
      "Overwriting submissions/starting_kit/classifier.py\n"
     ]
    }
   ],
   "source": [
    "%%file submissions/starting_kit/classifier.py\n",
    "\n",
    "from __future__ import unicode_literals\n",
    "from sklearn.ensemble import RandomForestClassifier\n",
    "from collections import Counter\n",
    "import pandas as pd\n",
    "import numpy as np\n",
    "\n",
    "\n",
    "\n",
    "class Classifier():\n",
    "    def __init__(self):\n",
    "        #self.raw_embedding = load_embedding_from_url(url='http://nlp.stanford.edu/data/glove.6B.zip', filename='glove.6B.200d.txt')\n",
    "        self.clf = RandomForestClassifier()\n",
    "        # self.metaclf = XGBClassifier()\n",
    "\n",
    "    def fit(self, X, y):\n",
    "\n",
    "        self.clf.fit(X, y)\n",
    "\n",
    "    def predict(self, X):\n",
    "        y_proba = self.predict_proba(X)\n",
    "        y = np.argmax(y_proba, axis=1)\n",
    "        return y\n",
    "\n",
    "    def predict_proba(self, X):\n",
    "        y_proba = self.clf.predict_proba(X)\n",
    "        \n",
    "        return  y_proba"
   ]
  },
  {
   "cell_type": "code",
   "execution_count": 109,
   "metadata": {},
   "outputs": [],
   "source": [
    "%run submissions/starting_kit/classifier.py"
   ]
  },
  {
   "cell_type": "code",
   "execution_count": null,
   "metadata": {},
   "outputs": [],
   "source": [
    "X,y =get_train_data()"
   ]
  },
  {
   "cell_type": "code",
   "execution_count": null,
   "metadata": {},
   "outputs": [],
   "source": [
    "fe=FeatureExtractor()\n",
    "fe.fit(X.iloc[0:10000,])\n",
    "X_fe = fe.transform(X.iloc[0:10000,])"
   ]
  },
  {
   "cell_type": "code",
   "execution_count": null,
   "metadata": {},
   "outputs": [],
   "source": [
    "cl=Classifier()\n",
    "cl.fit(X_fe,y[0:10000])  "
   ]
  },
  {
   "cell_type": "code",
   "execution_count": 117,
   "metadata": {},
   "outputs": [],
   "source": [
    "X,y =get_test_data()\n",
    "X_fe = fe.transform(X.iloc[0:10000,])\n",
    "y_predict,y_proba = cl.predict(X_fe),cl.predict_proba(X_fe)"
   ]
  },
  {
   "cell_type": "code",
   "execution_count": 118,
   "metadata": {},
   "outputs": [
    {
     "data": {
      "text/plain": [
       "array(['410', '410', '410', '410', '410', '410', '410', '567', '567', '567'], dtype=object)"
      ]
     },
     "execution_count": 118,
     "metadata": {},
     "output_type": "execute_result"
    }
   ],
   "source": [
    "mat = confusion_matrix(y[0:10000],y_predict)\n",
    "sns.heatmap(mat.T, square=True, annot=True, fmt='d', cbar=False,\n",
    "            xticklabels=np.unique(y_test), yticklabels=np.unique(y_test))\n",
    "plt.xlabel('true label')\n",
    "plt.ylabel('predicted label');"
   ]
  },
  {
   "cell_type": "code",
   "execution_count": null,
   "metadata": {},
   "outputs": [],
   "source": [
    "!ramp_test_submission --quick-test"
   ]
  },
  {
   "cell_type": "markdown",
   "metadata": {
    "collapsed": true
   },
   "source": [
    "### Bibliography\n",
    "\n",
    "\n",
    "\n",
    "\n",
    "\n",
    "\n",
    "\n",
    "\n",
    "\n",
    "- [Arkey 1995] Arkey L, Croft B. Automatic assignment of ICD9 codes to discharge summaries. University of Massachusetts, 1995.\n",
    "\n",
    "- [Baumel 2017] Baumel, T., Nassour-Kassis, J., Cohen, R., Elhadad, M., \\& Elhadad, N.\\ 2017, arXiv:1709.09587 \n",
    "\n",
    "- [Chin 2017] Chin 2017 Chin L, Chia-Jung H, Yu-Sheng L, Shih-Jen Y, Chia-Cheng L, Sui-Lung S, Hsiang-Cheng C. Artificial Intelligence Learning Semantics via External Resources for Classifying Diagnosis Codes in DischargeNotes.\n",
    "\n",
    "- [Dermouche 2016] Dermouche 2016 Dermouche, M., Velcin,J. ,Flicoteaux, R. , Chevret S. and Taright N. Supervised Topic Models for Diagnosis Code Assignment to Discharge Summaries. Proceedings of the 17th International Conference on Intelligent Text Processing and Computational Linguistics (CICLING), Konya, Turkey, 2016.\n",
    "\n",
    "- [Farkas 2008] Richard Farkas and Gyorgy Szarvas. Automatic construction of rule-based ICD-9-CM coding systems. BMC bioinformatics, 9 Suppl 3:S10, 2008.\n",
    "\n",
    "- [Goldstein 2007] Ira Goldstein, Anna Arzrumtsyan, and Ozlem Uzuner. Three approaches to automatic assignment of ICD-9-CM codes to radiology reports. In Proceedings of AMIA Symposium (AMIA’07), pages 279–83, 2007.\n",
    "\n",
    "- [Lita 2008] Lita L, Yu S, Niculescu S, et al. Large scale diagnostic code classification for medical patient records. In: Proceedings of the 3rd International Joint Conference on Natural Language Processing (IJCNLP’08). 2008\n",
    "\n",
    "- [Medori 2010] Julia Medori and C´edrick Fairon. Machine learning and features selection for semiautomatic ICD-9-CM encoding. In Proceedings of the NAACL HLT 2010 Second Louhi Workshop on Text and Data Mining of Health Documents (Louhi’10), pages 84–89, Los Angeles, CA, USA, 2010. ACL.\n",
    "\n",
    "- [Pakhomov 2006] Pakhomov SVS , Buntrock JD, Chute CG, et al. Automating the assignment of diagnosis codes to patient encounters using example-based and machine learning techniques. J Am Med Informatics Assoc JAMIA 2006;13:516\n",
    "\n",
    "- [Perotte 2014] Adler Perotte, Rimma Pivovarov, Karthik Natarajan, Nicole Weiskopf, Frank Wood, and Noémie Elhadad. Diagnosis code assignment: models and evaluation metrics. Journal of the American Medical Informatics Association (JAMIA), 21(2):231–237, 2014.\n",
    "\n",
    "- [Pestian 2007] John P. Pestian, Christopher Brew, Pawel Matykiewicz, D. J. Hovermale, Neil Johnson, K. Bretonnel Cohen, and Wlodzislaw Duch. A Shared Task Involving Multi-label Classification of Clinical Free Text. In Proceedings of the Workshop on BioNLP 2007: Biological, Translational, and Clinical Language Processing (BioNLP’07), pages 97–104, Prague, Czech Republic, 2007. ACL.\n",
    "\n",
    "- [Ribeiro-Neto 2001] Ribeiro-Neto B, Laender AHF, de Lima LRS. An experimental study in automatically categorizing medical documents. J Am Soc Inf Sci Technol 2001;52:391\n",
    "\n",
    "- [Ruch 2008] Patrick Ruch, Julien Gobeilla, Imad Tbahritia, and Antoine Geissbuhlera. From episodes of care to diagnosis codes: automatic text categorization for medicoeconomic encoding. In Proccedings of the AMIA Symposium (AMIA’08), pages 636–40, Washington D.C., USA, 2008.\n",
    "\n",
    "- [Tchechmedjiev 2017] Andon Tchechmedjiev, Amine Abdaoui, Vincent Emonet, Clement Jonquet. ICD-10 coding of death certificates with the NCBO and SIFR Annotators at CLEF eHealth 2017. Working Notes of CLEF eHealth Evaluation Lab, Sep 2017, Dublin, Ireland. CEUR, CEUR Workshop Proceedings, 1866.\n",
    "\n",
    "- [Vani 2017] Ankit Vani, Yacine Jernitey and David Sontagz. Recurrent Neural Networks,  stat.ML 23 May 2017 arXiv:1705.08557v1\n",
    "\n",
    "- [Zhang 2008] Yitao Zhang. A hierarchical approach to encoding medical concepts for clinical notes. In Proceedings of the 46th Annual Meeting of the Association for Computational Linguistics on Human Language Technologies: Student Research Workshop (HLT-SRWS’08), pages 67–72, Columbus, OH, USA, 2008. ACL.\n",
    "\n"
   ]
  },
  {
   "cell_type": "code",
   "execution_count": null,
   "metadata": {},
   "outputs": [],
   "source": []
  }
 ],
 "metadata": {
  "kernelspec": {
   "display_name": "Python [default]",
   "language": "python",
   "name": "python3"
  },
  "language_info": {
   "codemirror_mode": {
    "name": "ipython",
    "version": 3
   },
   "file_extension": ".py",
   "mimetype": "text/x-python",
   "name": "python",
   "nbconvert_exporter": "python",
   "pygments_lexer": "ipython3",
   "version": "3.6.2"
  }
 },
 "nbformat": 4,
 "nbformat_minor": 2
}
